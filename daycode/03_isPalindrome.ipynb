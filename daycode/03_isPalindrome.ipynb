{
 "cells": [
  {
   "cell_type": "markdown",
   "metadata": {},
   "source": [
    "#方法1，转换为字符串，首尾相比较"
   ]
  },
  {
   "cell_type": "code",
   "execution_count": 1,
   "metadata": {},
   "outputs": [
    {
     "name": "stdout",
     "output_type": "stream",
     "text": [
      "True\n"
     ]
    }
   ],
   "source": [
    "class Solution():\n",
    "    def isPalindrome(self,x):\n",
    "        if x<0:\n",
    "            return False\n",
    "        else:\n",
    "            j=-1\n",
    "            x=str(x)\n",
    "            for i in range(len(x)//2):\n",
    "                if x[i]!=x[j]:\n",
    "                    return False\n",
    "                else:\n",
    "                    j=j-1\n",
    "            return True\n",
    "ret=Solution().isPalindrome(121)\n",
    "print(ret)"
   ]
  },
  {
   "cell_type": "markdown",
   "metadata": {},
   "source": [
    "#数学方法"
   ]
  },
  {
   "cell_type": "code",
   "execution_count": 2,
   "metadata": {},
   "outputs": [
    {
     "name": "stdout",
     "output_type": "stream",
     "text": [
      "True\n"
     ]
    }
   ],
   "source": [
    "class Solution():\n",
    "    def isPalindrome(self,x):\n",
    "        if x<0:\n",
    "            return False\n",
    "        else:\n",
    "            sum=0\n",
    "            y=x\n",
    "            while(x!=0):\n",
    "                sum=sum*10+x%10\n",
    "                x=x//10\n",
    "            return y==sum\n",
    "ret=Solution().isPalindrome(121)\n",
    "print(ret)"
   ]
  },
  {
   "cell_type": "code",
   "execution_count": null,
   "metadata": {},
   "outputs": [],
   "source": []
  }
 ],
 "metadata": {
  "kernelspec": {
   "display_name": "Python 3",
   "language": "python",
   "name": "python3"
  },
  "language_info": {
   "codemirror_mode": {
    "name": "ipython",
    "version": 3
   },
   "file_extension": ".py",
   "mimetype": "text/x-python",
   "name": "python",
   "nbconvert_exporter": "python",
   "pygments_lexer": "ipython3",
   "version": "3.8.5"
  }
 },
 "nbformat": 4,
 "nbformat_minor": 4
}
