{
 "cells": [
  {
   "cell_type": "code",
   "execution_count": null,
   "metadata": {},
   "outputs": [],
   "source": [
    "#03题方法1，转换为字符串，首尾相比较"
   ]
  },
  {
   "cell_type": "code",
   "execution_count": 1,
   "metadata": {},
   "outputs": [
    {
     "name": "stdout",
     "output_type": "stream",
     "text": [
      "True\n"
     ]
    }
   ],
   "source": [
    "class Solution():\n",
    "    def isPalindrome(self,x):\n",
    "        if x<0:\n",
    "            return False\n",
    "        else:\n",
    "            j=-1\n",
    "            x=str(x)\n",
    "            for i in range(len(x)//2):\n",
    "                if x[i]!=x[j]:\n",
    "                    return False\n",
    "                else:\n",
    "                    j=j-1\n",
    "            return True\n",
    "ret=Solution().isPalindrome(121)\n",
    "print(ret)"
   ]
  },
  {
   "cell_type": "code",
   "execution_count": null,
   "metadata": {},
   "outputs": [],
   "source": [
    "#数学方法"
   ]
  },
  {
   "cell_type": "code",
   "execution_count": 2,
   "metadata": {},
   "outputs": [
    {
     "name": "stdout",
     "output_type": "stream",
     "text": [
      "True\n"
     ]
    }
   ],
   "source": [
    "class Solution():\n",
    "    def isPalindrome(self,x):\n",
    "        if x<0:\n",
    "            return False\n",
    "        else:\n",
    "            sum=0\n",
    "            y=x\n",
    "            while(x!=0):\n",
    "                sum=sum*10+x%10\n",
    "                x=x//10\n",
    "            return y==sum\n",
    "ret=Solution().isPalindrome(121)\n",
    "print(ret)"
   ]
  },
  {
   "cell_type": "code",
   "execution_count": null,
   "metadata": {},
   "outputs": [],
   "source": [
    "#04题 自己写"
   ]
  },
  {
   "cell_type": "code",
   "execution_count": 96,
   "metadata": {},
   "outputs": [],
   "source": [
    "def longestCommonPrefix(lists):\n",
    "    n=len(lists)\n",
    "    temp=[]\n",
    "    j=0\n",
    "    m=len(lists[0])\n",
    "    out=[]\n",
    "    for i in range(1,n):\n",
    "        m=min(m,len(lists[i]))\n",
    "    if m==0:\n",
    "        return 0\n",
    "    while(1):\n",
    "        for i in range(n):\n",
    "            if m==j:\n",
    "                break\n",
    "            else:\n",
    "                st=lists[0][j]*n\n",
    "                temp.append(lists[i][j])\n",
    "        temp=''.join(temp)\n",
    "        if temp==st:\n",
    "            j=j+1\n",
    "            temp=[]\n",
    "        else:\n",
    "            break\n",
    "    for k in range(j):\n",
    "        out.append(lists[0][k])\n",
    "    out=''.join(out)\n",
    "    return out\n",
    "longestCommonPrefix([\"fl\",\"\",\"ls\"])"
   ]
  },
  {
   "cell_type": "code",
   "execution_count": 13,
   "metadata": {},
   "outputs": [
    {
     "name": "stdout",
     "output_type": "stream",
     "text": [
      "[(1, 4), (2, 5), (3, 6)]\n",
      "(1, 2, 3) (4, 5, 6)\n",
      "{'o', 'b', 'u', 'r', 'n'}\n"
     ]
    }
   ],
   "source": [
    "#zip() 函数用于将可迭代的对象作为参数，将对象中对应的元素打包成一个个元组，然后返回由这些元组组成的列表。\n",
    "#如果各个迭代器的元素个数不一致，则返回列表长度与最短的对象相同，利用 * 号操作符，可以将元组解压为列表\n",
    "a = [1,2,3]\n",
    "b = [4,5,6]\n",
    "zipped = zip(a,b)     # 注意是将对应元素进行打包，而不是字符串的拼接,返回元组组成的一个对象，节省内存\n",
    "c=list(zipped)        #将zipped转换为一个list\n",
    "print(c)\n",
    "d,e=zip(*zip(a,b))        # 与 zip 相反，zip(*) 可理解为解压，返回二维矩阵式\n",
    "print(d,e)\n",
    "\n",
    "x = set('runoob')    # 去除字符串中的重复字符\n",
    "print(x)\n",
    "#然后运用set函数 对每一个元素进行去重操作\n",
    "\n",
    "#join函数，用于将列表中的字符元素进行合并，形成一个整体的字符串，split()的逆操作\n",
    "# ''.join(a)"
   ]
  },
  {
   "cell_type": "code",
   "execution_count": null,
   "metadata": {},
   "outputs": [],
   "source": [
    "class Solution:\n",
    "    def longestCommonPrefix(self, strs):\n",
    "        \"\"\"\n",
    "        :type strs: List[str]\n",
    "        :rtype: str\n",
    "        \"\"\"\n",
    "        res = \"\"\n",
    "        for tmp in zip(*strs):\n",
    "            tmp_set = set(tmp)\n",
    "            if len(tmp_set) == 1:\n",
    "                res += tmp[0]\n",
    "            else:\n",
    "                break\n",
    "        return res"
   ]
  },
  {
   "cell_type": "code",
   "execution_count": null,
   "metadata": {},
   "outputs": [],
   "source": [
    "class Solution:\n",
    "    def longestCommonPrefix(self, s: List[str]) -> str:\n",
    "        if not s:    #s为空就之间返回\"\"\n",
    "            return \"\"\n",
    "        res = s[0]\n",
    "        i = 1\n",
    "        while i < len(s):\n",
    "            while s[i].find(res) != 0:\n",
    "                res = res[0:len(res)-1]\n",
    "            i += 1\n",
    "        return res"
   ]
  }
 ],
 "metadata": {
  "kernelspec": {
   "display_name": "Python 3",
   "language": "python",
   "name": "python3"
  },
  "language_info": {
   "codemirror_mode": {
    "name": "ipython",
    "version": 3
   },
   "file_extension": ".py",
   "mimetype": "text/x-python",
   "name": "python",
   "nbconvert_exporter": "python",
   "pygments_lexer": "ipython3",
   "version": "3.8.5"
  }
 },
 "nbformat": 4,
 "nbformat_minor": 4
}
