{
 "cells": [
  {
   "cell_type": "code",
   "execution_count": 20,
   "id": "6abb5ec7",
   "metadata": {},
   "outputs": [],
   "source": [
    "#我写的\n",
    "def reverse0(x):\n",
    "    flag=None\n",
    "    sum=0\n",
    "    if x<0:\n",
    "        flag='-'\n",
    "        x=abs(x)\n",
    "    while(x>0):\n",
    "        temp=x%10\n",
    "        x=x//10\n",
    "        sum=sum*10+temp\n",
    "    if flag is not None:\n",
    "        sum = 0-sum\n",
    "        if sum<-pow(2,31):\n",
    "            sum = 0\n",
    "    else:\n",
    "        if sum>pow(2,31)-1:\n",
    "            sum = 0\n",
    "    return sum"
   ]
  },
  {
   "cell_type": "code",
   "execution_count": 21,
   "id": "d58b2c44",
   "metadata": {},
   "outputs": [],
   "source": [
    "#题解：不单独去判断正负，也不单独去判断是否溢出\n",
    "def reverse1(x):\n",
    "    ret=0\n",
    "    temp=0\n",
    "    last=0\n",
    "    while(x!=0):\n",
    "        temp=x%10\n",
    "        last=ret\n",
    "        ret=ret*10+temp\n",
    "        #未溢出时，会相等\n",
    "        if last!=ret//10:  #这里是双斜杠，python里的除法有两种，//对应C语言中的/，而/对应C语言中的float型除法\n",
    "            return 0\n",
    "        x=x//10\n",
    "    return ret"
   ]
  },
  {
   "cell_type": "code",
   "execution_count": 22,
   "id": "57c376f7",
   "metadata": {},
   "outputs": [
    {
     "data": {
      "text/plain": [
       "340421"
      ]
     },
     "execution_count": 22,
     "metadata": {},
     "output_type": "execute_result"
    }
   ],
   "source": [
    "reverse0(124043)"
   ]
  },
  {
   "cell_type": "code",
   "execution_count": 23,
   "id": "46d2b874",
   "metadata": {},
   "outputs": [
    {
     "data": {
      "text/plain": [
       "340421"
      ]
     },
     "execution_count": 23,
     "metadata": {},
     "output_type": "execute_result"
    }
   ],
   "source": [
    "reverse1(124043)"
   ]
  },
  {
   "cell_type": "code",
   "execution_count": null,
   "id": "ad37c10b",
   "metadata": {},
   "outputs": [],
   "source": []
  }
 ],
 "metadata": {
  "kernelspec": {
   "display_name": "Python 3",
   "language": "python",
   "name": "python3"
  },
  "language_info": {
   "codemirror_mode": {
    "name": "ipython",
    "version": 3
   },
   "file_extension": ".py",
   "mimetype": "text/x-python",
   "name": "python",
   "nbconvert_exporter": "python",
   "pygments_lexer": "ipython3",
   "version": "3.8.5"
  }
 },
 "nbformat": 4,
 "nbformat_minor": 5
}
