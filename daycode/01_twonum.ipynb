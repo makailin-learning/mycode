{
 "cells": [
  {
   "cell_type": "code",
   "execution_count": 92,
   "id": "d72aa056",
   "metadata": {},
   "outputs": [
    {
     "name": "stdout",
     "output_type": "stream",
     "text": [
      "(0, 5)\n"
     ]
    }
   ],
   "source": [
    "#自己的解法，耗时5948ms\n",
    "#内存占用15.3M\n",
    "class Solution:\n",
    "    def twoSum(self, listi, target):\n",
    "        temp=listi.copy()\n",
    "        listi.sort()\n",
    "        max_index=len(listi)-1\n",
    "        for i,j in enumerate(listi):\n",
    "            if j==target:\n",
    "                max_index=i\n",
    "            else:\n",
    "                max_index=i\n",
    "                \n",
    "        k=max_index\n",
    "        i=0\n",
    "        j=1\n",
    "        while(i<k):\n",
    "            if listi[i]+listi[j]==target:\n",
    "                if listi[i]==listi[j]:\n",
    "                    index1=temp.index(listi[i])\n",
    "                    jj = -1\n",
    "                    while(1):\n",
    "                        if temp[jj]==listi[i]:\n",
    "                            index2=jj+len(temp)\n",
    "                            break\n",
    "                        else:\n",
    "                            jj=jj-1\n",
    "                else:\n",
    "                    index1=min(temp.index(listi[i]),temp.index(listi[j]))\n",
    "                    index2=max(temp.index(listi[i]),temp.index(listi[j]))\n",
    "                return index1,index2\n",
    "            else:\n",
    "                j=j+1\n",
    "                if j==k+1:\n",
    "                    i=i+1\n",
    "                    j=i+1\n",
    "        return None\n",
    "\n",
    "ret=Solution().twoSum([3,4,6,4,5,3],6)\n",
    "if ret==None:\n",
    "    print('未找到合适的值,请重新输入！')\n",
    "else:\n",
    "    print(ret)"
   ]
  },
  {
   "cell_type": "code",
   "execution_count": 93,
   "id": "eb2db959",
   "metadata": {},
   "outputs": [],
   "source": [
    "def twoSum(nums, target):\n",
    "    lens = len(nums)\n",
    "    j=-1\n",
    "    for i in range(1,lens):\n",
    "        #分割列表\n",
    "        temp = nums[:i]\n",
    "        if (target - nums[i]) in temp:\n",
    "            j = temp.index(target - nums[i])\n",
    "            break\n",
    "    if j>=0:\n",
    "        return [j,i]"
   ]
  },
  {
   "cell_type": "code",
   "execution_count": 96,
   "id": "ed1e4b2c",
   "metadata": {},
   "outputs": [
    {
     "data": {
      "text/plain": [
       "[0, 3]"
      ]
     },
     "execution_count": 96,
     "metadata": {},
     "output_type": "execute_result"
    }
   ],
   "source": [
    "twoSum([9,7,11,0],9)"
   ]
  },
  {
   "cell_type": "code",
   "execution_count": null,
   "id": "90f20640",
   "metadata": {},
   "outputs": [],
   "source": []
  }
 ],
 "metadata": {
  "kernelspec": {
   "display_name": "Python 3",
   "language": "python",
   "name": "python3"
  },
  "language_info": {
   "codemirror_mode": {
    "name": "ipython",
    "version": 3
   },
   "file_extension": ".py",
   "mimetype": "text/x-python",
   "name": "python",
   "nbconvert_exporter": "python",
   "pygments_lexer": "ipython3",
   "version": "3.8.5"
  }
 },
 "nbformat": 4,
 "nbformat_minor": 5
}
